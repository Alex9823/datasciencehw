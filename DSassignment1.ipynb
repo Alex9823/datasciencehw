{
 "cells": [
  {
   "cell_type": "code",
   "execution_count": 30,
   "metadata": {},
   "outputs": [],
   "source": [
    "import nltk\n",
    "import numpy as np\n",
    "import re\n",
    "\n",
    "from collections import Counter\n",
    "from math import exp, log\n",
    "from sklearn.base import TransformerMixin"
   ]
  },
  {
   "cell_type": "code",
   "execution_count": 35,
   "metadata": {},
   "outputs": [
    {
     "data": {
      "text/plain": [
       "3408858"
      ]
     },
     "execution_count": 35,
     "metadata": {},
     "output_type": "execute_result"
    }
   ],
   "source": [
    "text = open('warandpeace.txt', 'r', encoding=\"UTF-8\").read()[2:]\n",
    "len(text)"
   ]
  },
  {
   "cell_type": "code",
   "execution_count": 36,
   "metadata": {},
   "outputs": [],
   "source": [
    "import string\n",
    "import re\n",
    "\n",
    "def preprocess_text(text):\n",
    "    text = text.lower()\n",
    " #   punct = \"“”‘’—\" + string.punctuation.replace('.', '')\n",
    "#    for item in punct:\n",
    "    punctuation = '\\]|!|\"|#|\\$|%|&|\\'|\\(|\\)|\\*|\\+|,|-|/|:|;|<|=|>|\\?|@|\\[|\\\\|^|_|`|{|\\||}|~|”|“|—|‘|’'\n",
    "    text = text.replace(punctuation, \" \")\n",
    "    return re.sub('\\s+', ' ', text)\n",
    "\n",
    "text = preprocess_text(text)\n"
   ]
  },
  {
   "cell_type": "code",
   "execution_count": 37,
   "metadata": {},
   "outputs": [],
   "source": [
    "text = text.split('.')\n",
    "text = [x.strip() for x in text]"
   ]
  },
  {
   "cell_type": "code",
   "execution_count": 38,
   "metadata": {},
   "outputs": [],
   "source": [
    "from progressbar import Percentage, Bar, ETA, FileTransferSpeed, ProgressBar\n",
    "from IPython.display import clear_output\n",
    "\n",
    "widgets = [Percentage(), ' ', Bar(marker='0', left='[', right=']'), ' ', ETA(), ' ', FileTransferSpeed()]"
   ]
  },
  {
   "cell_type": "code",
   "execution_count": 7,
   "metadata": {},
   "outputs": [
    {
     "name": "stdout",
     "output_type": "stream",
     "text": [
      "Collecting progressbar\n",
      "  Downloading https://files.pythonhosted.org/packages/a3/a6/b8e451f6cff1c99b4747a2f7235aa904d2d49e8e1464e0b798272aa84358/progressbar-2.5.tar.gz\n",
      "Building wheels for collected packages: progressbar\n",
      "  Building wheel for progressbar (setup.py) ... \u001b[?25ldone\n",
      "\u001b[?25h  Stored in directory: /Users/Asalamatina/Library/Caches/pip/wheels/c0/e9/6b/ea01090205e285175842339aa3b491adeb4015206cda272ff0\n",
      "Successfully built progressbar\n",
      "Installing collected packages: progressbar\n",
      "Successfully installed progressbar-2.5\n"
     ]
    }
   ],
   "source": [
    "!pip install progressbar"
   ]
  },
  {
   "cell_type": "code",
   "execution_count": null,
   "metadata": {},
   "outputs": [],
   "source": []
  },
  {
   "cell_type": "code",
   "execution_count": 39,
   "metadata": {},
   "outputs": [
    {
     "name": "stderr",
     "output_type": "stream",
     "text": [
      "transforming: 100% [00000000000000000000000000000000] Time: 0:01:43 298.71  B/s\n"
     ]
    }
   ],
   "source": [
    "from collections import Counter\n",
    "import nltk\n",
    "from sklearn.base import TransformerMixin\n",
    "from copy import deepcopy\n",
    "\n",
    "\n",
    "class BPE(TransformerMixin):\n",
    "    def __init__(self, vocab_size=100):\n",
    "        super(BPE, self).__init__()\n",
    "        self.vocab_size = vocab_size\n",
    "        # index to token\n",
    "        self.itos = []\n",
    "        # token to index\n",
    "        self.stoi = {}\n",
    "        \n",
    "    @staticmethod\n",
    "    def update_encoding(text, new_token, new_id):\n",
    "        new_text, i = [], 0\n",
    "        \n",
    "        while i < len(text):\n",
    "            if i == len(text) - 1:\n",
    "                new_text.append(text[i])\n",
    "            elif (text[i], text[i + 1]) == new_token:\n",
    "                new_text.append(new_id)\n",
    "                i += 1\n",
    "            else:\n",
    "                new_text.append(text[i])\n",
    "            i += 1\n",
    "        return new_text\n",
    "        \n",
    "    def fit(self, text):\n",
    "        \"\"\"\n",
    "        fit itos and stoi\n",
    "        text: list of strings \n",
    "        \"\"\"\n",
    "        \n",
    "        # TODO\n",
    "        # tokenize text by symbols and fill in self.itos and self.stoi\n",
    "        text_ = deepcopy(\" \".join(text))\n",
    "        self.itos = list(set(list(text_)))\n",
    "        self.stoi = {token: i for i, token in enumerate(self.itos)}\n",
    "        text_ = [self.stoi[char] for char in text_]\n",
    "        \n",
    "        pbar = ProgressBar(widgets=[\"fitting: \"] + widgets, maxval=self.vocab_size)\n",
    "        pbar.start()\n",
    "        \n",
    "        while len(self.itos) < self.vocab_size:\n",
    "            new_token = Counter([(text_[i], text_[i+1]) for i in range(len(text_) - 1)]).most_common(1)[0]\n",
    "            new_id = len(self.itos)\n",
    "            \n",
    "            self.itos.append(new_token)\n",
    "            self.stoi[new_token] = new_id\n",
    "            \n",
    "            # find occurences of the new_token in the text and replace them with new_id\n",
    "            text_ = self.update_encoding(text_, new_token, new_id)\n",
    "            pbar.update(len(self.itos))\n",
    "        pbar.finish()\n",
    "        return self\n",
    "    \n",
    "    def transform(self, text):\n",
    "        \"\"\"\n",
    "        convert text to a sequence of token ids\n",
    "        text: list of strings\n",
    "        \"\"\"\n",
    "        clear_output()\n",
    "        text_ =  deepcopy(text)\n",
    "        pbar = ProgressBar(widgets=[\"transforming: \"] + widgets, maxval=len(text))\n",
    "        pbar.start()\n",
    "        for i, sent in enumerate(text_):\n",
    "            token_sent = [self.stoi[char] for char in sent]\n",
    "            for token_id, token in enumerate(self.itos):\n",
    "                text_[i] = self.update_encoding(token_sent, token, token_id)\n",
    "            pbar.update(i)\n",
    "        pbar.finish()\n",
    "        return text_\n",
    "    \n",
    "    def decode_token(self, tok):\n",
    "        \"\"\"\n",
    "        tok: int or tuple\n",
    "        \"\"\"\n",
    "        result = \"\"\n",
    "        \n",
    "        def recursive_search(token):\n",
    "            if type(token) == str:\n",
    "                nonlocal result\n",
    "                result += token\n",
    "            elif type(token) == int:\n",
    "                recursive_search(self.itos[token])\n",
    "            else:\n",
    "                for el in token:\n",
    "                    recursive_search(token)\n",
    "                    \n",
    "        recursive_search(tok)\n",
    "        return result\n",
    "            \n",
    "    def decode(self, text):\n",
    "        \"\"\"\n",
    "        convert token ids into text\n",
    "        \"\"\"\n",
    "        return ''.join(map(self.decode_token, text))\n",
    "    \n",
    "vocab_size = 100\n",
    "bpe = BPE(vocab_size)\n",
    "tokenized_text = bpe.fit_transform(text)"
   ]
  },
  {
   "cell_type": "code",
   "execution_count": null,
   "metadata": {},
   "outputs": [],
   "source": []
  },
  {
   "cell_type": "code",
   "execution_count": 18,
   "metadata": {},
   "outputs": [],
   "source": [
    "assert bpe.decode(tokenized_text[0]) == text[0]"
   ]
  },
  {
   "cell_type": "code",
   "execution_count": null,
   "metadata": {},
   "outputs": [],
   "source": []
  },
  {
   "cell_type": "code",
   "execution_count": 19,
   "metadata": {},
   "outputs": [],
   "source": [
    "import numpy as np\n",
    "        \n",
    "    \n",
    "start_token = vocab_size\n",
    "end_token = vocab_size + 1\n",
    "        \n",
    "    \n",
    "class LM:\n",
    "    def __init__(self, vocab_size, delta=1):\n",
    "        self.delta = delta\n",
    "        self.vocab_size = vocab_size + 2\n",
    "        self.proba = {}\n",
    "        \n",
    "    def smoothen_count(self, count, tau):\n",
    "        return (count + self.delta) ** (1/tau)\n",
    "        \n",
    "    def infer(self, a, b, tau=1):\n",
    "        \"\"\"\n",
    "        return vector of probabilities of size self.vocab for 3-grams which start with (a,b) tokens\n",
    "        a: first token id\n",
    "        b: second token id\n",
    "        tau: temperature\n",
    "        \"\"\"\n",
    "        result = []\n",
    "        for token in range(self.vocab_size):\n",
    "            result.append(self.get_proba(a, b, token, tau))\n",
    "        return np.array(result)\n",
    "        \n",
    "    def get_proba(self, a, b, c, tau=1):\n",
    "        \"\"\"\n",
    "        get probability of 3-gram (a,b,c)\n",
    "        a: first token id\n",
    "        b: second token id\n",
    "        c: third token id\n",
    "        tau: temperature\n",
    "        \"\"\"\n",
    "        all_tri_proba = []\n",
    "        for token in range(self.vocab_size):\n",
    "            all_tri_proba.append(self.smoothen_count(self.proba[(a, b, token)], tau))\n",
    "        return self.smoothen_count(self.proba[(a, b, c)], tau) / sum(all_tri_proba)\n",
    "    \n",
    "    def fit(self, text):\n",
    "        \"\"\"\n",
    "        train language model on text\n",
    "        text: list of lists\n",
    "        \"\"\"\n",
    "        \n",
    "        trigrams = []\n",
    "        for sent in text:\n",
    "            pre_sent = [start_token] + sent + [end_token]\n",
    "            for i in range(len(pre_sent) - 2):\n",
    "                trigrams.append((pre_sent[i], pre_sent[i + 1], pre_sent[i + 2]))\n",
    "        self.proba = Counter(trigrams)\n",
    "        \n",
    "        return self\n",
    "    \n",
    "lm = LM(vocab_size, 1).fit(tokenized_text)"
   ]
  },
  {
   "cell_type": "code",
   "execution_count": null,
   "metadata": {},
   "outputs": [],
   "source": []
  },
  {
   "cell_type": "code",
   "execution_count": 20,
   "metadata": {},
   "outputs": [],
   "source": [
    "def get_top_k_probs(probs, k):\n",
    "    out = []\n",
    "    sorted_probs = sorted(probs, reverse=True)\n",
    "    for i in range(k):\n",
    "        out += np.argwhere(probs == sorted_probs[i]).flatten().tolist()\n",
    "    return out[:k]"
   ]
  },
  {
   "cell_type": "code",
   "execution_count": null,
   "metadata": {},
   "outputs": [],
   "source": []
  },
  {
   "cell_type": "code",
   "execution_count": 21,
   "metadata": {},
   "outputs": [],
   "source": [
    "def beam_search(input_seq, lm, max_len=10, k=5, tau=1):\n",
    "    \"\"\"\n",
    "    generate sequence from language model *lm* conditioned on input_seq\n",
    "    input_seq: sequence of token ids for conditioning\n",
    "    lm: language model\n",
    "    max_len: max generated sequence length\n",
    "    k: size of beam\n",
    "    tau: temperature\n",
    "    \"\"\"\n",
    "    probs = np.log(lm.infer(input_seq[-2], input_seq[-1], tau))\n",
    "    best_probs = get_top_k_probs(probs, k)\n",
    "    beam = [(input_seq + [tok], probs[tok]) for tok in best_probs]\n",
    "    \n",
    "    for i in range(max_len):\n",
    "        candidates = []\n",
    "        candidates_proba = []\n",
    "        for snt, snt_proba in beam:\n",
    "            if snt == end_token:\n",
    "                continue\n",
    "            else:    \n",
    "                proba = lm.infer(snt[-2], snt[-1], tau)\n",
    "                best_k = get_top_k_probs(proba, k)\n",
    "                candidates += [snt + [token] for token in best_k]\n",
    "                candidates_proba += [snt_proba + np.log(proba)[snt] for snt in best_k]\n",
    "\n",
    "        idxs = get_top_k_probs(np.array(candidates_proba), k)        \n",
    "        beam = [(candidates[k], candidates_proba[k]) for k in idxs]\n",
    "    return beam"
   ]
  },
  {
   "cell_type": "code",
   "execution_count": null,
   "metadata": {},
   "outputs": [],
   "source": []
  },
  {
   "cell_type": "code",
   "execution_count": 22,
   "metadata": {},
   "outputs": [
    {
     "name": "stderr",
     "output_type": "stream",
     "text": [
      "transforming: 100% [00000000000000000000000000000000] Time: 0:00:00 347.12  B/s\n"
     ]
    },
    {
     "name": "stdout",
     "output_type": "stream",
     "text": [
      "sent: horse and the and; log proba -0.7874070258780741\n",
      "sent: horse the and the; log proba -1.9460246479040955\n",
      "sent: horse and the the; log proba -1.9460246479040957\n",
      "sent: horse the the and; log proba -3.47621908548869\n",
      "sent: horse and the sai; log proba -4.212776190427485\n",
      "sent: horse was and the; log proba -4.359988315344083\n",
      "sent: horse said the an; log proba -4.466179590784896\n",
      "sent: horse the the the; log proba -4.634836707514712\n",
      "sent: horse and the who; log proba -4.852139260100694\n",
      "sent: horse and the so ; log proba -5.013154211615189\n"
     ]
    }
   ],
   "source": [
    "input1 = 'horse '\n",
    "input1 = bpe.transform([input1])[0]\n",
    "result = beam_search(input1, lm, max_len=10, k=10, tau=0.1)\n",
    "for pair in result:\n",
    "    print(f\"sent: {bpe.decode(pair[0])}; log proba {pair[1]}\")"
   ]
  },
  {
   "cell_type": "code",
   "execution_count": null,
   "metadata": {},
   "outputs": [],
   "source": []
  },
  {
   "cell_type": "code",
   "execution_count": 23,
   "metadata": {},
   "outputs": [
    {
     "name": "stderr",
     "output_type": "stream",
     "text": [
      "transforming: 100% [00000000000000000000000000000000] Time: 0:00:00 473.72  B/s\n"
     ]
    },
    {
     "name": "stdout",
     "output_type": "stream",
     "text": [
      "sent: her the and th; log proba -0.725990954303979\n",
      "sent: her and the an; log proba -1.7070708592891286\n",
      "sent: her the the an; log proba -2.2561846551558027\n",
      "sent: her and the th; log proba -2.865689218047921\n",
      "sent: her the the th; log proba -3.414803013914595\n",
      "sent: her the said t; log proba -4.404737092177984\n",
      "sent: her the was an; log proba -4.670148322595789\n",
      "sent: her and the sa; log proba -5.1324122389981675\n",
      "sent: her and the wh; log proba -5.244115031429863\n",
      "sent: her and the so; log proba -5.45957057599175\n"
     ]
    }
   ],
   "source": [
    "input1 = 'her'\n",
    "input1 = bpe.transform([input1])[0]\n",
    "result = beam_search(input1, lm, max_len=10, k=10, tau=0.1)\n",
    "for pair in result:\n",
    "    print(f\"sent: {bpe.decode(pair[0])}; log proba {pair[1]}\")"
   ]
  },
  {
   "cell_type": "code",
   "execution_count": null,
   "metadata": {},
   "outputs": [],
   "source": []
  },
  {
   "cell_type": "code",
   "execution_count": 24,
   "metadata": {},
   "outputs": [
    {
     "name": "stderr",
     "output_type": "stream",
     "text": [
      "transforming: 100% [00000000000000000000000000000000] Time: 0:00:00 414.95  B/s\n"
     ]
    },
    {
     "name": "stdout",
     "output_type": "stream",
     "text": [
      "sent: what of the the; log proba -9.629208191651452\n",
      "sent: what the and th; log proba -9.701817500490872\n",
      "sent: what of the and; log proba -10.070307580990702\n",
      "sent: what the the th; log proba -10.093799431363207\n",
      "sent: what the the an; log proba -10.460193178758342\n",
      "sent: what the and an; log proba -10.61782262685417\n",
      "sent: what and the an; log proba -10.640143023730092\n",
      "sent: what the and to; log proba -10.752954893403667\n",
      "sent: what the the to; log proba -11.144936824276002\n",
      "sent: what of the tha; log proba -11.301791485156114\n"
     ]
    }
   ],
   "source": [
    "input1 = 'what'\n",
    "input1 = bpe.transform([input1])[0]\n",
    "result = beam_search(input1, lm, max_len=10, k=10, tau=1)\n",
    "for pair in result:\n",
    "    print(f\"sent: {bpe.decode(pair[0])}; log proba {pair[1]}\")"
   ]
  },
  {
   "cell_type": "code",
   "execution_count": null,
   "metadata": {},
   "outputs": [],
   "source": []
  },
  {
   "cell_type": "code",
   "execution_count": 25,
   "metadata": {},
   "outputs": [
    {
     "name": "stderr",
     "output_type": "stream",
     "text": [
      "transforming: 100% [00000000000000000000000000000000] Time: 0:00:00 542.32  B/s\n"
     ]
    },
    {
     "name": "stdout",
     "output_type": "stream",
     "text": [
      "sent: gun the and the; log proba -0.42396723466410147\n",
      "sent: gun the the and; log proba -1.9541616722486956\n",
      "sent: gun the the the; log proba -3.1127792942747172\n",
      "sent: gun the said th; log proba -4.102740536303693\n",
      "sent: gun and the and; log proba -4.204157793821503\n",
      "sent: gun the was and; log proba -4.3681253396886826\n",
      "sent: gun the so the ; log proba -4.663512655169986\n",
      "sent: gun the and and; log proba -4.761463402319709\n",
      "sent: gun the the sai; log proba -5.379530836798107\n",
      "sent: gun the the who; log proba -6.018893906471315\n"
     ]
    }
   ],
   "source": [
    "input1 = 'gun '\n",
    "input1 = bpe.transform([input1])[0]\n",
    "result = beam_search(input1, lm, max_len=10, k=10, tau=0.1)\n",
    "for pair in result:\n",
    "    print(f\"sent: {bpe.decode(pair[0])}; log proba {pair[1]}\")"
   ]
  },
  {
   "cell_type": "code",
   "execution_count": null,
   "metadata": {},
   "outputs": [],
   "source": []
  },
  {
   "cell_type": "code",
   "execution_count": 26,
   "metadata": {},
   "outputs": [
    {
     "data": {
      "text/plain": [
       "2.677992011649401"
      ]
     },
     "execution_count": 26,
     "metadata": {},
     "output_type": "execute_result"
    }
   ],
   "source": [
    "from math import log, exp\n",
    "\n",
    "def perplexity(snt, lm):\n",
    "    \"\"\"\n",
    "    snt: sequence of token ids\n",
    "    lm: language model\n",
    "    \"\"\"\n",
    "    perplexity = 0\n",
    "    \n",
    "    snt = [start_token] + snt + [end_token]\n",
    "\n",
    "    for char in range(len(snt) - 2):\n",
    "        perplexity += log((1 / lm.infer(snt[char], snt[char + 1])[snt[char + 2]]))\n",
    "    result = pow(perplexity, -1 / float(len(snt)))\n",
    "    return exp(result)\n",
    "\n",
    "perplexity(tokenized_text[0], lm)"
   ]
  },
  {
   "cell_type": "code",
   "execution_count": null,
   "metadata": {},
   "outputs": [],
   "source": []
  }
 ],
 "metadata": {
  "kernelspec": {
   "display_name": "Python 3",
   "language": "python",
   "name": "python3"
  },
  "language_info": {
   "codemirror_mode": {
    "name": "ipython",
    "version": 3
   },
   "file_extension": ".py",
   "mimetype": "text/x-python",
   "name": "python",
   "nbconvert_exporter": "python",
   "pygments_lexer": "ipython3",
   "version": "3.7.3"
  }
 },
 "nbformat": 4,
 "nbformat_minor": 2
}
